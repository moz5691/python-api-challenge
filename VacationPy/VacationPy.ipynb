{
 "cells": [
  {
   "cell_type": "markdown",
   "metadata": {},
   "source": [
    "# VacationPy\n",
    "----\n",
    "\n",
    "#### Note\n",
    "* Instructions have been included for each segment. You do not have to follow them exactly, but they are included to help you think through the steps."
   ]
  },
  {
   "cell_type": "code",
   "execution_count": 16,
   "metadata": {},
   "outputs": [],
   "source": [
    "# Dependencies and Setup\n",
    "%matplotlib notebook\n",
    "import matplotlib.pyplot as plt\n",
    "import pandas as pd\n",
    "import numpy as np\n",
    "import requests\n",
    "import gmaps\n",
    "import gmaps.datasets\n",
    "import os\n",
    "from ipywidgets.embed import embed_minimal_html\n",
    "\n",
    "# Import API key\n",
    "from api_keys import g_key\n"
   ]
  },
  {
   "cell_type": "markdown",
   "metadata": {},
   "source": [
    "### Store Part I results into DataFrame\n",
    "* Load the csv exported in Part I to a DataFrame"
   ]
  },
  {
   "cell_type": "code",
   "execution_count": 4,
   "metadata": {},
   "outputs": [
    {
     "name": "stdout",
     "output_type": "stream",
     "text": [
      "City          547\n",
      "Cloudiness    547\n",
      "Country       541\n",
      "Date          547\n",
      "Humidity      547\n",
      "Lat           547\n",
      "Lng           547\n",
      "Max Temp      547\n",
      "Wind Speed    547\n",
      "dtype: int64\n"
     ]
    },
    {
     "data": {
      "text/html": [
       "<div>\n",
       "<style scoped>\n",
       "    .dataframe tbody tr th:only-of-type {\n",
       "        vertical-align: middle;\n",
       "    }\n",
       "\n",
       "    .dataframe tbody tr th {\n",
       "        vertical-align: top;\n",
       "    }\n",
       "\n",
       "    .dataframe thead th {\n",
       "        text-align: right;\n",
       "    }\n",
       "</style>\n",
       "<table border=\"1\" class=\"dataframe\">\n",
       "  <thead>\n",
       "    <tr style=\"text-align: right;\">\n",
       "      <th></th>\n",
       "      <th>City</th>\n",
       "      <th>Cloudiness</th>\n",
       "      <th>Country</th>\n",
       "      <th>Date</th>\n",
       "      <th>Humidity</th>\n",
       "      <th>Lat</th>\n",
       "      <th>Lng</th>\n",
       "      <th>Max Temp</th>\n",
       "      <th>Wind Speed</th>\n",
       "    </tr>\n",
       "  </thead>\n",
       "  <tbody>\n",
       "    <tr>\n",
       "      <th>0</th>\n",
       "      <td>Port Elizabeth</td>\n",
       "      <td>90</td>\n",
       "      <td>ZA</td>\n",
       "      <td>1585709292</td>\n",
       "      <td>93</td>\n",
       "      <td>-33.92</td>\n",
       "      <td>25.57</td>\n",
       "      <td>60.800</td>\n",
       "      <td>10.289924</td>\n",
       "    </tr>\n",
       "    <tr>\n",
       "      <th>1</th>\n",
       "      <td>Jiangkou</td>\n",
       "      <td>75</td>\n",
       "      <td>CN</td>\n",
       "      <td>1585709293</td>\n",
       "      <td>82</td>\n",
       "      <td>25.49</td>\n",
       "      <td>119.20</td>\n",
       "      <td>60.800</td>\n",
       "      <td>13.421640</td>\n",
       "    </tr>\n",
       "    <tr>\n",
       "      <th>2</th>\n",
       "      <td>Gushikawa</td>\n",
       "      <td>90</td>\n",
       "      <td>JP</td>\n",
       "      <td>1585709293</td>\n",
       "      <td>100</td>\n",
       "      <td>26.35</td>\n",
       "      <td>127.87</td>\n",
       "      <td>68.000</td>\n",
       "      <td>14.987498</td>\n",
       "    </tr>\n",
       "    <tr>\n",
       "      <th>3</th>\n",
       "      <td>Mataura</td>\n",
       "      <td>10</td>\n",
       "      <td>NZ</td>\n",
       "      <td>1585709293</td>\n",
       "      <td>69</td>\n",
       "      <td>-46.19</td>\n",
       "      <td>168.86</td>\n",
       "      <td>66.002</td>\n",
       "      <td>2.997500</td>\n",
       "    </tr>\n",
       "    <tr>\n",
       "      <th>4</th>\n",
       "      <td>Kapaa</td>\n",
       "      <td>40</td>\n",
       "      <td>US</td>\n",
       "      <td>1585709293</td>\n",
       "      <td>69</td>\n",
       "      <td>22.08</td>\n",
       "      <td>-159.32</td>\n",
       "      <td>78.800</td>\n",
       "      <td>14.987498</td>\n",
       "    </tr>\n",
       "  </tbody>\n",
       "</table>\n",
       "</div>"
      ],
      "text/plain": [
       "             City  Cloudiness Country        Date  Humidity    Lat     Lng  \\\n",
       "0  Port Elizabeth          90      ZA  1585709292        93 -33.92   25.57   \n",
       "1        Jiangkou          75      CN  1585709293        82  25.49  119.20   \n",
       "2       Gushikawa          90      JP  1585709293       100  26.35  127.87   \n",
       "3         Mataura          10      NZ  1585709293        69 -46.19  168.86   \n",
       "4           Kapaa          40      US  1585709293        69  22.08 -159.32   \n",
       "\n",
       "   Max Temp  Wind Speed  \n",
       "0    60.800   10.289924  \n",
       "1    60.800   13.421640  \n",
       "2    68.000   14.987498  \n",
       "3    66.002    2.997500  \n",
       "4    78.800   14.987498  "
      ]
     },
     "execution_count": 4,
     "metadata": {},
     "output_type": "execute_result"
    }
   ],
   "source": [
    "cities_data_path = '../WeatherPy/output_data/cities.csv'\n",
    "cities_df = pd.read_csv(cities_data_path)\n",
    "print(cities_df.count())\n",
    "cities_df.head()"
   ]
  },
  {
   "cell_type": "markdown",
   "metadata": {},
   "source": [
    "### Humidity Heatmap\n",
    "* Configure gmaps.\n",
    "* Use the Lat and Lng as locations and Humidity as the weight.\n",
    "* Add Heatmap layer to map."
   ]
  },
  {
   "cell_type": "code",
   "execution_count": 5,
   "metadata": {},
   "outputs": [],
   "source": [
    "gmaps.configure(api_key=g_key) # Fill in with your API key\n",
    "\n",
    "locations = cities_df[['Lat', 'Lng']]\n",
    "weights = cities_df['Humidity']"
   ]
  },
  {
   "cell_type": "code",
   "execution_count": 18,
   "metadata": {},
   "outputs": [
    {
     "data": {
      "application/vnd.jupyter.widget-view+json": {
       "model_id": "128ae9292df24ae2938665e713c723e7",
       "version_major": 2,
       "version_minor": 0
      },
      "text/plain": [
       "Figure(layout=FigureLayout(height='420px'))"
      ]
     },
     "metadata": {},
     "output_type": "display_data"
    }
   ],
   "source": [
    "fig = gmaps.figure(center=(48.0, 0.0), zoom_level=2)\n",
    "fig.add_layer(gmaps.heatmap_layer(locations, weights=weights, dissipating=False, max_intensity=50,\n",
    "                                 point_radius = 2, opacity=0.5))\n",
    "embed_minimal_html('./output_data/vacation_heatmap.html', views=[fig])\n",
    "fig"
   ]
  },
  {
   "cell_type": "markdown",
   "metadata": {},
   "source": [
    "### Create new DataFrame fitting weather criteria\n",
    "* Narrow down the cities to fit weather conditions.\n",
    "* Drop any rows will null values."
   ]
  },
  {
   "cell_type": "code",
   "execution_count": 7,
   "metadata": {},
   "outputs": [
    {
     "data": {
      "text/plain": [
       "City          5\n",
       "Cloudiness    5\n",
       "Country       5\n",
       "Date          5\n",
       "Humidity      5\n",
       "Lat           5\n",
       "Lng           5\n",
       "Max Temp      5\n",
       "Wind Speed    5\n",
       "dtype: int64"
      ]
     },
     "execution_count": 7,
     "metadata": {},
     "output_type": "execute_result"
    }
   ],
   "source": [
    "vac_cities_df = cities_df.copy()\n",
    "vac_cities_df = vac_cities_df.loc[(vac_cities_df['Max Temp'] > 70) & \n",
    "                                  (vac_cities_df['Max Temp'] < 80) & \n",
    "                                  (vac_cities_df['Wind Speed'] < 10) &\n",
    "                                  (vac_cities_df['Cloudiness'] == 0)]\n",
    "\n",
    "vac_cities_df.count()"
   ]
  },
  {
   "cell_type": "code",
   "execution_count": 8,
   "metadata": {},
   "outputs": [
    {
     "data": {
      "text/html": [
       "<div>\n",
       "<style scoped>\n",
       "    .dataframe tbody tr th:only-of-type {\n",
       "        vertical-align: middle;\n",
       "    }\n",
       "\n",
       "    .dataframe tbody tr th {\n",
       "        vertical-align: top;\n",
       "    }\n",
       "\n",
       "    .dataframe thead th {\n",
       "        text-align: right;\n",
       "    }\n",
       "</style>\n",
       "<table border=\"1\" class=\"dataframe\">\n",
       "  <thead>\n",
       "    <tr style=\"text-align: right;\">\n",
       "      <th></th>\n",
       "      <th>City</th>\n",
       "      <th>Cloudiness</th>\n",
       "      <th>Country</th>\n",
       "      <th>Date</th>\n",
       "      <th>Humidity</th>\n",
       "      <th>Lat</th>\n",
       "      <th>Lng</th>\n",
       "      <th>Max Temp</th>\n",
       "      <th>Wind Speed</th>\n",
       "    </tr>\n",
       "  </thead>\n",
       "  <tbody>\n",
       "    <tr>\n",
       "      <th>243</th>\n",
       "      <td>Cockburn Town</td>\n",
       "      <td>0</td>\n",
       "      <td>TC</td>\n",
       "      <td>1585709350</td>\n",
       "      <td>72</td>\n",
       "      <td>21.46</td>\n",
       "      <td>-71.14</td>\n",
       "      <td>76.784</td>\n",
       "      <td>9.506995</td>\n",
       "    </tr>\n",
       "    <tr>\n",
       "      <th>298</th>\n",
       "      <td>Umluj</td>\n",
       "      <td>0</td>\n",
       "      <td>SA</td>\n",
       "      <td>1585709366</td>\n",
       "      <td>41</td>\n",
       "      <td>25.02</td>\n",
       "      <td>37.27</td>\n",
       "      <td>73.922</td>\n",
       "      <td>2.572481</td>\n",
       "    </tr>\n",
       "    <tr>\n",
       "      <th>436</th>\n",
       "      <td>Lakes Entrance</td>\n",
       "      <td>0</td>\n",
       "      <td>AU</td>\n",
       "      <td>1585709399</td>\n",
       "      <td>49</td>\n",
       "      <td>-37.88</td>\n",
       "      <td>147.98</td>\n",
       "      <td>73.004</td>\n",
       "      <td>1.990877</td>\n",
       "    </tr>\n",
       "    <tr>\n",
       "      <th>447</th>\n",
       "      <td>Tessalit</td>\n",
       "      <td>0</td>\n",
       "      <td>ML</td>\n",
       "      <td>1585709402</td>\n",
       "      <td>15</td>\n",
       "      <td>20.20</td>\n",
       "      <td>1.01</td>\n",
       "      <td>70.556</td>\n",
       "      <td>6.487126</td>\n",
       "    </tr>\n",
       "    <tr>\n",
       "      <th>476</th>\n",
       "      <td>Ormara</td>\n",
       "      <td>0</td>\n",
       "      <td>PK</td>\n",
       "      <td>1585709410</td>\n",
       "      <td>73</td>\n",
       "      <td>25.21</td>\n",
       "      <td>64.64</td>\n",
       "      <td>73.346</td>\n",
       "      <td>7.538488</td>\n",
       "    </tr>\n",
       "  </tbody>\n",
       "</table>\n",
       "</div>"
      ],
      "text/plain": [
       "               City  Cloudiness Country        Date  Humidity    Lat     Lng  \\\n",
       "243   Cockburn Town           0      TC  1585709350        72  21.46  -71.14   \n",
       "298           Umluj           0      SA  1585709366        41  25.02   37.27   \n",
       "436  Lakes Entrance           0      AU  1585709399        49 -37.88  147.98   \n",
       "447        Tessalit           0      ML  1585709402        15  20.20    1.01   \n",
       "476          Ormara           0      PK  1585709410        73  25.21   64.64   \n",
       "\n",
       "     Max Temp  Wind Speed  \n",
       "243    76.784    9.506995  \n",
       "298    73.922    2.572481  \n",
       "436    73.004    1.990877  \n",
       "447    70.556    6.487126  \n",
       "476    73.346    7.538488  "
      ]
     },
     "execution_count": 8,
     "metadata": {},
     "output_type": "execute_result"
    }
   ],
   "source": [
    "vac_cities_df"
   ]
  },
  {
   "cell_type": "markdown",
   "metadata": {},
   "source": [
    "### Hotel Map\n",
    "* Store into variable named `hotel_df`.\n",
    "* Add a \"Hotel Name\" column to the DataFrame.\n",
    "* Set parameters to search for hotels with 5000 meters.\n",
    "* Hit the Google Places API for each city's coordinates.\n",
    "* Store the first Hotel result into the DataFrame.\n",
    "* Plot markers on top of the heatmap."
   ]
  },
  {
   "cell_type": "code",
   "execution_count": 9,
   "metadata": {},
   "outputs": [],
   "source": [
    "hotel_df = vac_cities_df.copy()"
   ]
  },
  {
   "cell_type": "code",
   "execution_count": 11,
   "metadata": {},
   "outputs": [
    {
     "name": "stdout",
     "output_type": "stream",
     "text": [
      "243 21.46 -71.14\n",
      "Cockburn Town TKCA 1ZZ, Turks and Caicos Islands\n",
      "298 25.02 37.27\n",
      "Umluj Saudi Arabia\n",
      "436 -37.88 147.98\n",
      "Lakes Entrance VIC 3909, Australia\n",
      "447 20.2 1.01\n",
      "Achemelmel, Mali\n",
      "476 25.21 64.64\n",
      "Ormara, Gwadar, Balochistan, Pakistan\n"
     ]
    }
   ],
   "source": [
    "for index, data in hotel_df.iterrows():\n",
    "    print(index, data['Lat'], data['Lng'])\n",
    "    latitude = data['Lat']\n",
    "    longitude = data['Lng']\n",
    "    response = requests.get(f\"https://maps.googleapis.com/maps/api/place/textsearch/json?location={latitude},{longitude}&radius=5000&type=hotel&key={g_key}\").json()\n",
    "    hotel_name = response['results'][0]['formatted_address']\n",
    "    hotel_df.loc[index, 'Hotel Name'] = hotel_name\n",
    "    print(hotel_name)\n",
    "    "
   ]
  },
  {
   "cell_type": "code",
   "execution_count": 12,
   "metadata": {},
   "outputs": [
    {
     "data": {
      "text/html": [
       "<div>\n",
       "<style scoped>\n",
       "    .dataframe tbody tr th:only-of-type {\n",
       "        vertical-align: middle;\n",
       "    }\n",
       "\n",
       "    .dataframe tbody tr th {\n",
       "        vertical-align: top;\n",
       "    }\n",
       "\n",
       "    .dataframe thead th {\n",
       "        text-align: right;\n",
       "    }\n",
       "</style>\n",
       "<table border=\"1\" class=\"dataframe\">\n",
       "  <thead>\n",
       "    <tr style=\"text-align: right;\">\n",
       "      <th></th>\n",
       "      <th>City</th>\n",
       "      <th>Cloudiness</th>\n",
       "      <th>Country</th>\n",
       "      <th>Date</th>\n",
       "      <th>Humidity</th>\n",
       "      <th>Lat</th>\n",
       "      <th>Lng</th>\n",
       "      <th>Max Temp</th>\n",
       "      <th>Wind Speed</th>\n",
       "      <th>Hotel Name</th>\n",
       "    </tr>\n",
       "  </thead>\n",
       "  <tbody>\n",
       "    <tr>\n",
       "      <th>243</th>\n",
       "      <td>Cockburn Town</td>\n",
       "      <td>0</td>\n",
       "      <td>TC</td>\n",
       "      <td>1585709350</td>\n",
       "      <td>72</td>\n",
       "      <td>21.46</td>\n",
       "      <td>-71.14</td>\n",
       "      <td>76.784</td>\n",
       "      <td>9.506995</td>\n",
       "      <td>Cockburn Town TKCA 1ZZ, Turks and Caicos Islands</td>\n",
       "    </tr>\n",
       "    <tr>\n",
       "      <th>298</th>\n",
       "      <td>Umluj</td>\n",
       "      <td>0</td>\n",
       "      <td>SA</td>\n",
       "      <td>1585709366</td>\n",
       "      <td>41</td>\n",
       "      <td>25.02</td>\n",
       "      <td>37.27</td>\n",
       "      <td>73.922</td>\n",
       "      <td>2.572481</td>\n",
       "      <td>Umluj Saudi Arabia</td>\n",
       "    </tr>\n",
       "    <tr>\n",
       "      <th>436</th>\n",
       "      <td>Lakes Entrance</td>\n",
       "      <td>0</td>\n",
       "      <td>AU</td>\n",
       "      <td>1585709399</td>\n",
       "      <td>49</td>\n",
       "      <td>-37.88</td>\n",
       "      <td>147.98</td>\n",
       "      <td>73.004</td>\n",
       "      <td>1.990877</td>\n",
       "      <td>Lakes Entrance VIC 3909, Australia</td>\n",
       "    </tr>\n",
       "    <tr>\n",
       "      <th>447</th>\n",
       "      <td>Tessalit</td>\n",
       "      <td>0</td>\n",
       "      <td>ML</td>\n",
       "      <td>1585709402</td>\n",
       "      <td>15</td>\n",
       "      <td>20.20</td>\n",
       "      <td>1.01</td>\n",
       "      <td>70.556</td>\n",
       "      <td>6.487126</td>\n",
       "      <td>Achemelmel, Mali</td>\n",
       "    </tr>\n",
       "    <tr>\n",
       "      <th>476</th>\n",
       "      <td>Ormara</td>\n",
       "      <td>0</td>\n",
       "      <td>PK</td>\n",
       "      <td>1585709410</td>\n",
       "      <td>73</td>\n",
       "      <td>25.21</td>\n",
       "      <td>64.64</td>\n",
       "      <td>73.346</td>\n",
       "      <td>7.538488</td>\n",
       "      <td>Ormara, Gwadar, Balochistan, Pakistan</td>\n",
       "    </tr>\n",
       "  </tbody>\n",
       "</table>\n",
       "</div>"
      ],
      "text/plain": [
       "               City  Cloudiness Country        Date  Humidity    Lat     Lng  \\\n",
       "243   Cockburn Town           0      TC  1585709350        72  21.46  -71.14   \n",
       "298           Umluj           0      SA  1585709366        41  25.02   37.27   \n",
       "436  Lakes Entrance           0      AU  1585709399        49 -37.88  147.98   \n",
       "447        Tessalit           0      ML  1585709402        15  20.20    1.01   \n",
       "476          Ormara           0      PK  1585709410        73  25.21   64.64   \n",
       "\n",
       "     Max Temp  Wind Speed                                        Hotel Name  \n",
       "243    76.784    9.506995  Cockburn Town TKCA 1ZZ, Turks and Caicos Islands  \n",
       "298    73.922    2.572481                                Umluj Saudi Arabia  \n",
       "436    73.004    1.990877                Lakes Entrance VIC 3909, Australia  \n",
       "447    70.556    6.487126                                  Achemelmel, Mali  \n",
       "476    73.346    7.538488             Ormara, Gwadar, Balochistan, Pakistan  "
      ]
     },
     "execution_count": 12,
     "metadata": {},
     "output_type": "execute_result"
    }
   ],
   "source": [
    "hotel_df"
   ]
  },
  {
   "cell_type": "code",
   "execution_count": 13,
   "metadata": {},
   "outputs": [],
   "source": [
    "# NOTE: Do not change any of the code in this cell\n",
    "\n",
    "# Using the template add the hotel marks to the heatmap\n",
    "info_box_template = \"\"\"\n",
    "<dl>\n",
    "<dt>Name</dt><dd>{Hotel Name}</dd>\n",
    "<dt>City</dt><dd>{City}</dd>\n",
    "<dt>Country</dt><dd>{Country}</dd>\n",
    "</dl>\n",
    "\"\"\"\n",
    "# Store the DataFrame Row\n",
    "# NOTE: be sure to update with your DataFrame name\n",
    "hotel_info = [info_box_template.format(**row) for index, row in hotel_df.iterrows()]\n",
    "locations2 = hotel_df[[\"Lat\", \"Lng\"]]"
   ]
  },
  {
   "cell_type": "code",
   "execution_count": 17,
   "metadata": {},
   "outputs": [
    {
     "data": {
      "application/vnd.jupyter.widget-view+json": {
       "model_id": "1f1d78c7ca5d4890b7188b55fa6f632f",
       "version_major": 2,
       "version_minor": 0
      },
      "text/plain": [
       "Figure(layout=FigureLayout(height='420px'))"
      ]
     },
     "metadata": {},
     "output_type": "display_data"
    }
   ],
   "source": [
    "# Add marker layer ontop of heat map\n",
    "fig = gmaps.figure(center=(48.0, 0.0), zoom_level=2)\n",
    "fig.add_layer(gmaps.heatmap_layer(locations, weights=weights, dissipating=False, max_intensity=50, point_radius = 2, opacity=1))\n",
    "fig.add_layer(gmaps.marker_layer(locations2, hover_text='', label='', info_box_content=hotel_info))\n",
    "embed_minimal_html('./output_data/vacation_hotels.html', views=[fig])\n",
    "# Display Map\n",
    "fig"
   ]
  },
  {
   "cell_type": "code",
   "execution_count": null,
   "metadata": {},
   "outputs": [],
   "source": []
  }
 ],
 "metadata": {
  "kernelspec": {
   "display_name": "Python 3.7.6 64-bit ('tf20': virtualenv)",
   "language": "python",
   "name": "python37664bittf20virtualenv8ff1437924c24c9c802e1a7d920be90e"
  },
  "language_info": {
   "codemirror_mode": {
    "name": "ipython",
    "version": 3
   },
   "file_extension": ".py",
   "mimetype": "text/x-python",
   "name": "python",
   "nbconvert_exporter": "python",
   "pygments_lexer": "ipython3",
   "version": "3.7.6"
  },
  "latex_envs": {
   "LaTeX_envs_menu_present": true,
   "autoclose": false,
   "autocomplete": true,
   "bibliofile": "biblio.bib",
   "cite_by": "apalike",
   "current_citInitial": 1,
   "eqLabelWithNumbers": true,
   "eqNumInitial": 1,
   "hotkeys": {
    "equation": "Ctrl-E",
    "itemize": "Ctrl-I"
   },
   "labels_anchors": false,
   "latex_user_defs": false,
   "report_style_numbering": false,
   "user_envs_cfg": false
  }
 },
 "nbformat": 4,
 "nbformat_minor": 4
}
