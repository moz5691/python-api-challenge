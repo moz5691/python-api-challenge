{
 "cells": [
  {
   "cell_type": "markdown",
   "metadata": {},
   "source": [
    "# VacationPy\n",
    "----\n",
    "\n",
    "#### Note\n",
    "* Instructions have been included for each segment. You do not have to follow them exactly, but they are included to help you think through the steps."
   ]
  },
  {
   "cell_type": "code",
   "execution_count": 1,
   "metadata": {},
   "outputs": [],
   "source": [
    "# Dependencies and Setup\n",
    "%matplotlib notebook\n",
    "import matplotlib.pyplot as plt\n",
    "import pandas as pd\n",
    "import numpy as np\n",
    "import requests\n",
    "import gmaps\n",
    "import gmaps.datasets\n",
    "import os\n",
    "from ipywidgets.embed import embed_minimal_html\n",
    "\n",
    "# Import API key\n",
    "from api_keys import g_key\n"
   ]
  },
  {
   "cell_type": "markdown",
   "metadata": {},
   "source": [
    "### Store Part I results into DataFrame\n",
    "* Load the csv exported in Part I to a DataFrame"
   ]
  },
  {
   "cell_type": "code",
   "execution_count": 2,
   "metadata": {},
   "outputs": [
    {
     "name": "stdout",
     "output_type": "stream",
     "text": [
      "City          559\n",
      "Cloudiness    559\n",
      "Country       554\n",
      "Date          559\n",
      "Humidity      559\n",
      "Lat           559\n",
      "Lng           559\n",
      "Max Temp      559\n",
      "Wind Speed    559\n",
      "dtype: int64\n"
     ]
    },
    {
     "data": {
      "text/html": [
       "<div>\n",
       "<style scoped>\n",
       "    .dataframe tbody tr th:only-of-type {\n",
       "        vertical-align: middle;\n",
       "    }\n",
       "\n",
       "    .dataframe tbody tr th {\n",
       "        vertical-align: top;\n",
       "    }\n",
       "\n",
       "    .dataframe thead th {\n",
       "        text-align: right;\n",
       "    }\n",
       "</style>\n",
       "<table border=\"1\" class=\"dataframe\">\n",
       "  <thead>\n",
       "    <tr style=\"text-align: right;\">\n",
       "      <th></th>\n",
       "      <th>City</th>\n",
       "      <th>Cloudiness</th>\n",
       "      <th>Country</th>\n",
       "      <th>Date</th>\n",
       "      <th>Humidity</th>\n",
       "      <th>Lat</th>\n",
       "      <th>Lng</th>\n",
       "      <th>Max Temp</th>\n",
       "      <th>Wind Speed</th>\n",
       "    </tr>\n",
       "  </thead>\n",
       "  <tbody>\n",
       "    <tr>\n",
       "      <th>0</th>\n",
       "      <td>New Norfolk</td>\n",
       "      <td>75</td>\n",
       "      <td>AU</td>\n",
       "      <td>2020-04-01</td>\n",
       "      <td>87</td>\n",
       "      <td>-42.78</td>\n",
       "      <td>147.06</td>\n",
       "      <td>60.008</td>\n",
       "      <td>2.236940</td>\n",
       "    </tr>\n",
       "    <tr>\n",
       "      <th>1</th>\n",
       "      <td>Busselton</td>\n",
       "      <td>98</td>\n",
       "      <td>AU</td>\n",
       "      <td>2020-04-01</td>\n",
       "      <td>48</td>\n",
       "      <td>-33.65</td>\n",
       "      <td>115.33</td>\n",
       "      <td>66.002</td>\n",
       "      <td>13.533487</td>\n",
       "    </tr>\n",
       "    <tr>\n",
       "      <th>2</th>\n",
       "      <td>San Cristobal</td>\n",
       "      <td>75</td>\n",
       "      <td>VE</td>\n",
       "      <td>2020-04-01</td>\n",
       "      <td>88</td>\n",
       "      <td>7.77</td>\n",
       "      <td>-72.22</td>\n",
       "      <td>77.000</td>\n",
       "      <td>2.236940</td>\n",
       "    </tr>\n",
       "    <tr>\n",
       "      <th>3</th>\n",
       "      <td>Marzuq</td>\n",
       "      <td>9</td>\n",
       "      <td>YE</td>\n",
       "      <td>2020-04-01</td>\n",
       "      <td>26</td>\n",
       "      <td>14.40</td>\n",
       "      <td>46.47</td>\n",
       "      <td>87.710</td>\n",
       "      <td>13.958506</td>\n",
       "    </tr>\n",
       "    <tr>\n",
       "      <th>4</th>\n",
       "      <td>Yinchuan</td>\n",
       "      <td>60</td>\n",
       "      <td>CN</td>\n",
       "      <td>2020-04-01</td>\n",
       "      <td>13</td>\n",
       "      <td>38.47</td>\n",
       "      <td>106.27</td>\n",
       "      <td>41.000</td>\n",
       "      <td>4.004123</td>\n",
       "    </tr>\n",
       "  </tbody>\n",
       "</table>\n",
       "</div>"
      ],
      "text/plain": [
       "            City  Cloudiness Country        Date  Humidity    Lat     Lng  \\\n",
       "0    New Norfolk          75      AU  2020-04-01        87 -42.78  147.06   \n",
       "1      Busselton          98      AU  2020-04-01        48 -33.65  115.33   \n",
       "2  San Cristobal          75      VE  2020-04-01        88   7.77  -72.22   \n",
       "3         Marzuq           9      YE  2020-04-01        26  14.40   46.47   \n",
       "4       Yinchuan          60      CN  2020-04-01        13  38.47  106.27   \n",
       "\n",
       "   Max Temp  Wind Speed  \n",
       "0    60.008    2.236940  \n",
       "1    66.002   13.533487  \n",
       "2    77.000    2.236940  \n",
       "3    87.710   13.958506  \n",
       "4    41.000    4.004123  "
      ]
     },
     "execution_count": 2,
     "metadata": {},
     "output_type": "execute_result"
    }
   ],
   "source": [
    "cities_data_path = '../WeatherPy/output_data/cities.csv'\n",
    "cities_df = pd.read_csv(cities_data_path)\n",
    "print(cities_df.count())\n",
    "cities_df.head()"
   ]
  },
  {
   "cell_type": "markdown",
   "metadata": {},
   "source": [
    "### Humidity Heatmap\n",
    "* Configure gmaps.\n",
    "* Use the Lat and Lng as locations and Humidity as the weight.\n",
    "* Add Heatmap layer to map."
   ]
  },
  {
   "cell_type": "code",
   "execution_count": 3,
   "metadata": {},
   "outputs": [],
   "source": [
    "gmaps.configure(api_key=g_key) # Fill in with your API key\n",
    "\n",
    "locations = cities_df[['Lat', 'Lng']]\n",
    "weights = cities_df['Humidity']"
   ]
  },
  {
   "cell_type": "code",
   "execution_count": 4,
   "metadata": {},
   "outputs": [
    {
     "data": {
      "application/vnd.jupyter.widget-view+json": {
       "model_id": "25a155d999944655b7e066c9d85b1bee",
       "version_major": 2,
       "version_minor": 0
      },
      "text/plain": [
       "Figure(layout=FigureLayout(height='420px'))"
      ]
     },
     "metadata": {},
     "output_type": "display_data"
    }
   ],
   "source": [
    "fig = gmaps.figure(center=(48.0, 0.0), zoom_level=2)\n",
    "fig.add_layer(gmaps.heatmap_layer(locations, weights=weights, dissipating=False, max_intensity=50,\n",
    "                                 point_radius = 2, opacity=0.5))\n",
    "embed_minimal_html('./output_data/vacation_heatmap.html', views=[fig])\n",
    "fig"
   ]
  },
  {
   "cell_type": "markdown",
   "metadata": {},
   "source": [
    "### Create new DataFrame fitting weather criteria\n",
    "* Narrow down the cities to fit weather conditions.\n",
    "* Drop any rows will null values."
   ]
  },
  {
   "cell_type": "code",
   "execution_count": 5,
   "metadata": {},
   "outputs": [
    {
     "data": {
      "text/plain": [
       "City          4\n",
       "Cloudiness    4\n",
       "Country       4\n",
       "Date          4\n",
       "Humidity      4\n",
       "Lat           4\n",
       "Lng           4\n",
       "Max Temp      4\n",
       "Wind Speed    4\n",
       "dtype: int64"
      ]
     },
     "execution_count": 5,
     "metadata": {},
     "output_type": "execute_result"
    }
   ],
   "source": [
    "vac_cities_df = cities_df.copy()\n",
    "vac_cities_df = vac_cities_df.loc[(vac_cities_df['Max Temp'] > 70) & \n",
    "                                  (vac_cities_df['Max Temp'] < 80) & \n",
    "                                  (vac_cities_df['Wind Speed'] < 10) &\n",
    "                                  (vac_cities_df['Cloudiness'] == 0)]\n",
    "\n",
    "vac_cities_df.count()"
   ]
  },
  {
   "cell_type": "code",
   "execution_count": 6,
   "metadata": {},
   "outputs": [
    {
     "data": {
      "text/html": [
       "<div>\n",
       "<style scoped>\n",
       "    .dataframe tbody tr th:only-of-type {\n",
       "        vertical-align: middle;\n",
       "    }\n",
       "\n",
       "    .dataframe tbody tr th {\n",
       "        vertical-align: top;\n",
       "    }\n",
       "\n",
       "    .dataframe thead th {\n",
       "        text-align: right;\n",
       "    }\n",
       "</style>\n",
       "<table border=\"1\" class=\"dataframe\">\n",
       "  <thead>\n",
       "    <tr style=\"text-align: right;\">\n",
       "      <th></th>\n",
       "      <th>City</th>\n",
       "      <th>Cloudiness</th>\n",
       "      <th>Country</th>\n",
       "      <th>Date</th>\n",
       "      <th>Humidity</th>\n",
       "      <th>Lat</th>\n",
       "      <th>Lng</th>\n",
       "      <th>Max Temp</th>\n",
       "      <th>Wind Speed</th>\n",
       "    </tr>\n",
       "  </thead>\n",
       "  <tbody>\n",
       "    <tr>\n",
       "      <th>94</th>\n",
       "      <td>Barra de Tecoanapa</td>\n",
       "      <td>0</td>\n",
       "      <td>MX</td>\n",
       "      <td>2020-04-01</td>\n",
       "      <td>75</td>\n",
       "      <td>16.52</td>\n",
       "      <td>-98.75</td>\n",
       "      <td>74.246</td>\n",
       "      <td>2.751436</td>\n",
       "    </tr>\n",
       "    <tr>\n",
       "      <th>213</th>\n",
       "      <td>Acajutla</td>\n",
       "      <td>0</td>\n",
       "      <td>SV</td>\n",
       "      <td>2020-04-01</td>\n",
       "      <td>90</td>\n",
       "      <td>13.59</td>\n",
       "      <td>-89.83</td>\n",
       "      <td>71.006</td>\n",
       "      <td>7.896398</td>\n",
       "    </tr>\n",
       "    <tr>\n",
       "      <th>397</th>\n",
       "      <td>Yeppoon</td>\n",
       "      <td>0</td>\n",
       "      <td>AU</td>\n",
       "      <td>2020-04-01</td>\n",
       "      <td>83</td>\n",
       "      <td>-23.13</td>\n",
       "      <td>150.73</td>\n",
       "      <td>73.400</td>\n",
       "      <td>4.697574</td>\n",
       "    </tr>\n",
       "    <tr>\n",
       "      <th>527</th>\n",
       "      <td>Bam</td>\n",
       "      <td>0</td>\n",
       "      <td>IR</td>\n",
       "      <td>2020-04-01</td>\n",
       "      <td>14</td>\n",
       "      <td>29.11</td>\n",
       "      <td>58.36</td>\n",
       "      <td>73.256</td>\n",
       "      <td>5.346287</td>\n",
       "    </tr>\n",
       "  </tbody>\n",
       "</table>\n",
       "</div>"
      ],
      "text/plain": [
       "                   City  Cloudiness Country        Date  Humidity    Lat  \\\n",
       "94   Barra de Tecoanapa           0      MX  2020-04-01        75  16.52   \n",
       "213            Acajutla           0      SV  2020-04-01        90  13.59   \n",
       "397             Yeppoon           0      AU  2020-04-01        83 -23.13   \n",
       "527                 Bam           0      IR  2020-04-01        14  29.11   \n",
       "\n",
       "        Lng  Max Temp  Wind Speed  \n",
       "94   -98.75    74.246    2.751436  \n",
       "213  -89.83    71.006    7.896398  \n",
       "397  150.73    73.400    4.697574  \n",
       "527   58.36    73.256    5.346287  "
      ]
     },
     "execution_count": 6,
     "metadata": {},
     "output_type": "execute_result"
    }
   ],
   "source": [
    "vac_cities_df"
   ]
  },
  {
   "cell_type": "markdown",
   "metadata": {},
   "source": [
    "### Hotel Map\n",
    "* Store into variable named `hotel_df`.\n",
    "* Add a \"Hotel Name\" column to the DataFrame.\n",
    "* Set parameters to search for hotels with 5000 meters.\n",
    "* Hit the Google Places API for each city's coordinates.\n",
    "* Store the first Hotel result into the DataFrame.\n",
    "* Plot markers on top of the heatmap."
   ]
  },
  {
   "cell_type": "code",
   "execution_count": 7,
   "metadata": {},
   "outputs": [],
   "source": [
    "hotel_df = vac_cities_df.copy()"
   ]
  },
  {
   "cell_type": "code",
   "execution_count": 8,
   "metadata": {},
   "outputs": [
    {
     "name": "stdout",
     "output_type": "stream",
     "text": [
      "94 16.52 -98.75\n",
      "Barra de Tecoanapa, Guerrero, Mexico\n",
      "213 13.59 -89.83\n",
      "Acajutla, El Salvador\n",
      "397 -23.13 150.73\n",
      "Yeppoon QLD 4703, Australia\n",
      "527 29.11 58.36\n",
      "Bam, Kerman Province, Iran\n"
     ]
    }
   ],
   "source": [
    "for index, data in hotel_df.iterrows():\n",
    "    print(index, data['Lat'], data['Lng'])\n",
    "    latitude = data['Lat']\n",
    "    longitude = data['Lng']\n",
    "    response = requests.get(f\"https://maps.googleapis.com/maps/api/place/textsearch/json?location={latitude},{longitude}&radius=5000&type=hotel&key={g_key}\").json()\n",
    "    hotel_name = response['results'][0]['formatted_address']\n",
    "    hotel_df.loc[index, 'Hotel Name'] = hotel_name\n",
    "    print(hotel_name)\n",
    "    "
   ]
  },
  {
   "cell_type": "code",
   "execution_count": 9,
   "metadata": {},
   "outputs": [
    {
     "data": {
      "text/html": [
       "<div>\n",
       "<style scoped>\n",
       "    .dataframe tbody tr th:only-of-type {\n",
       "        vertical-align: middle;\n",
       "    }\n",
       "\n",
       "    .dataframe tbody tr th {\n",
       "        vertical-align: top;\n",
       "    }\n",
       "\n",
       "    .dataframe thead th {\n",
       "        text-align: right;\n",
       "    }\n",
       "</style>\n",
       "<table border=\"1\" class=\"dataframe\">\n",
       "  <thead>\n",
       "    <tr style=\"text-align: right;\">\n",
       "      <th></th>\n",
       "      <th>City</th>\n",
       "      <th>Cloudiness</th>\n",
       "      <th>Country</th>\n",
       "      <th>Date</th>\n",
       "      <th>Humidity</th>\n",
       "      <th>Lat</th>\n",
       "      <th>Lng</th>\n",
       "      <th>Max Temp</th>\n",
       "      <th>Wind Speed</th>\n",
       "      <th>Hotel Name</th>\n",
       "    </tr>\n",
       "  </thead>\n",
       "  <tbody>\n",
       "    <tr>\n",
       "      <th>94</th>\n",
       "      <td>Barra de Tecoanapa</td>\n",
       "      <td>0</td>\n",
       "      <td>MX</td>\n",
       "      <td>2020-04-01</td>\n",
       "      <td>75</td>\n",
       "      <td>16.52</td>\n",
       "      <td>-98.75</td>\n",
       "      <td>74.246</td>\n",
       "      <td>2.751436</td>\n",
       "      <td>Barra de Tecoanapa, Guerrero, Mexico</td>\n",
       "    </tr>\n",
       "    <tr>\n",
       "      <th>213</th>\n",
       "      <td>Acajutla</td>\n",
       "      <td>0</td>\n",
       "      <td>SV</td>\n",
       "      <td>2020-04-01</td>\n",
       "      <td>90</td>\n",
       "      <td>13.59</td>\n",
       "      <td>-89.83</td>\n",
       "      <td>71.006</td>\n",
       "      <td>7.896398</td>\n",
       "      <td>Acajutla, El Salvador</td>\n",
       "    </tr>\n",
       "    <tr>\n",
       "      <th>397</th>\n",
       "      <td>Yeppoon</td>\n",
       "      <td>0</td>\n",
       "      <td>AU</td>\n",
       "      <td>2020-04-01</td>\n",
       "      <td>83</td>\n",
       "      <td>-23.13</td>\n",
       "      <td>150.73</td>\n",
       "      <td>73.400</td>\n",
       "      <td>4.697574</td>\n",
       "      <td>Yeppoon QLD 4703, Australia</td>\n",
       "    </tr>\n",
       "    <tr>\n",
       "      <th>527</th>\n",
       "      <td>Bam</td>\n",
       "      <td>0</td>\n",
       "      <td>IR</td>\n",
       "      <td>2020-04-01</td>\n",
       "      <td>14</td>\n",
       "      <td>29.11</td>\n",
       "      <td>58.36</td>\n",
       "      <td>73.256</td>\n",
       "      <td>5.346287</td>\n",
       "      <td>Bam, Kerman Province, Iran</td>\n",
       "    </tr>\n",
       "  </tbody>\n",
       "</table>\n",
       "</div>"
      ],
      "text/plain": [
       "                   City  Cloudiness Country        Date  Humidity    Lat  \\\n",
       "94   Barra de Tecoanapa           0      MX  2020-04-01        75  16.52   \n",
       "213            Acajutla           0      SV  2020-04-01        90  13.59   \n",
       "397             Yeppoon           0      AU  2020-04-01        83 -23.13   \n",
       "527                 Bam           0      IR  2020-04-01        14  29.11   \n",
       "\n",
       "        Lng  Max Temp  Wind Speed                            Hotel Name  \n",
       "94   -98.75    74.246    2.751436  Barra de Tecoanapa, Guerrero, Mexico  \n",
       "213  -89.83    71.006    7.896398                 Acajutla, El Salvador  \n",
       "397  150.73    73.400    4.697574           Yeppoon QLD 4703, Australia  \n",
       "527   58.36    73.256    5.346287            Bam, Kerman Province, Iran  "
      ]
     },
     "execution_count": 9,
     "metadata": {},
     "output_type": "execute_result"
    }
   ],
   "source": [
    "hotel_df"
   ]
  },
  {
   "cell_type": "code",
   "execution_count": 10,
   "metadata": {},
   "outputs": [],
   "source": [
    "# NOTE: Do not change any of the code in this cell\n",
    "\n",
    "# Using the template add the hotel marks to the heatmap\n",
    "info_box_template = \"\"\"\n",
    "<dl>\n",
    "<dt>Name</dt><dd>{Hotel Name}</dd>\n",
    "<dt>City</dt><dd>{City}</dd>\n",
    "<dt>Country</dt><dd>{Country}</dd>\n",
    "</dl>\n",
    "\"\"\"\n",
    "# Store the DataFrame Row\n",
    "# NOTE: be sure to update with your DataFrame name\n",
    "hotel_info = [info_box_template.format(**row) for index, row in hotel_df.iterrows()]\n",
    "locations2 = hotel_df[[\"Lat\", \"Lng\"]]"
   ]
  },
  {
   "cell_type": "code",
   "execution_count": 11,
   "metadata": {},
   "outputs": [
    {
     "data": {
      "application/vnd.jupyter.widget-view+json": {
       "model_id": "1f3f0fbfa884490c9de9455114e2f892",
       "version_major": 2,
       "version_minor": 0
      },
      "text/plain": [
       "Figure(layout=FigureLayout(height='420px'))"
      ]
     },
     "metadata": {},
     "output_type": "display_data"
    }
   ],
   "source": [
    "# Add marker layer ontop of heat map\n",
    "fig = gmaps.figure(center=(48.0, 0.0), zoom_level=2)\n",
    "fig.add_layer(gmaps.heatmap_layer(locations, weights=weights, dissipating=False, max_intensity=50, point_radius = 2, opacity=1))\n",
    "fig.add_layer(gmaps.marker_layer(locations2, hover_text='', label='', info_box_content=hotel_info))\n",
    "embed_minimal_html('./output_data/vacation_hotels.html', views=[fig])\n",
    "# Display Map\n",
    "fig"
   ]
  }
 ],
 "metadata": {
  "kernelspec": {
   "display_name": "Python 3.7.6 64-bit ('tf20': virtualenv)",
   "language": "python",
   "name": "python37664bittf20virtualenv8ff1437924c24c9c802e1a7d920be90e"
  },
  "language_info": {
   "codemirror_mode": {
    "name": "ipython",
    "version": 3
   },
   "file_extension": ".py",
   "mimetype": "text/x-python",
   "name": "python",
   "nbconvert_exporter": "python",
   "pygments_lexer": "ipython3",
   "version": "3.7.6"
  },
  "latex_envs": {
   "LaTeX_envs_menu_present": true,
   "autoclose": false,
   "autocomplete": true,
   "bibliofile": "biblio.bib",
   "cite_by": "apalike",
   "current_citInitial": 1,
   "eqLabelWithNumbers": true,
   "eqNumInitial": 1,
   "hotkeys": {
    "equation": "Ctrl-E",
    "itemize": "Ctrl-I"
   },
   "labels_anchors": false,
   "latex_user_defs": false,
   "report_style_numbering": false,
   "user_envs_cfg": false
  }
 },
 "nbformat": 4,
 "nbformat_minor": 4
}
